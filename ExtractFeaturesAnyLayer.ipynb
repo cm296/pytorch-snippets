{
 "cells": [
  {
   "cell_type": "code",
   "execution_count": 1,
   "metadata": {},
   "outputs": [],
   "source": [
    "# Example Code to Extract features from any layer of any model"
   ]
  },
  {
   "cell_type": "code",
   "execution_count": 2,
   "metadata": {},
   "outputs": [],
   "source": [
    "import torch\n",
    "import torchvision.transforms as transforms\n",
    "import torchvision.datasets as dsets\n",
    "import torchvision.models as models\n",
    "from torch.autograd import Variable\n",
    "import os"
   ]
  },
  {
   "cell_type": "code",
   "execution_count": 3,
   "metadata": {},
   "outputs": [
    {
     "name": "stdout",
     "output_type": "stream",
     "text": [
      "torch version 1.4.0\n",
      "cuda available False\n",
      "num gpus 0\n"
     ]
    }
   ],
   "source": [
    "print(\"torch version {}\".format(torch.__version__))\n",
    "print(\"cuda available {}\".format(torch.cuda.is_available()))\n",
    "print(\"num gpus {}\".format(torch.cuda.device_count()))"
   ]
  },
  {
   "cell_type": "code",
   "execution_count": 4,
   "metadata": {},
   "outputs": [
    {
     "name": "stdout",
     "output_type": "stream",
     "text": [
      "/Users/cmagri1/OneDrive - Johns Hopkins/Project-Word2Sense/Code-Python/pytorch-snippets/data\n"
     ]
    }
   ],
   "source": [
    "# ImageFolder must contain subfolders of images:\n",
    "image_dir = os.getcwd()+'/data'\n",
    "print(image_dir)"
   ]
  },
  {
   "cell_type": "code",
   "execution_count": 5,
   "metadata": {},
   "outputs": [],
   "source": [
    "image_transforms = transforms.Compose([\n",
    "   transforms.Resize(224),\n",
    "   transforms.ToTensor(),\n",
    "   transforms.Normalize(mean=[0.485, 0.456, 0.406], std=[0.229, 0.224, 0.225])\n",
    "])"
   ]
  },
  {
   "cell_type": "code",
   "execution_count": 6,
   "metadata": {},
   "outputs": [],
   "source": [
    "# load a dataset, create a loader\n",
    "batch_size = 2\n",
    "dataset = dsets.ImageFolder(root=image_dir,\n",
    "                           transform=image_transforms)\n",
    "loader = torch.utils.data.DataLoader(dataset=dataset,\n",
    "                                          batch_size=batch_size,\n",
    "                                          shuffle=False)"
   ]
  },
  {
   "cell_type": "code",
   "execution_count": 7,
   "metadata": {},
   "outputs": [],
   "source": [
    "# load pre-trained alex-net\n",
    "model = models.alexnet(pretrained=True)\n",
    "if torch.cuda.is_available():\n",
    "   # model = torch.nn.DataParallel(model, device_ids= range(torch.cuda.device_count()))\n",
    "   model.cuda()  \n",
    "# print the model, figure out which layers you want to get outputs from    \n",
    "# print(model)"
   ]
  },
  {
   "cell_type": "code",
   "execution_count": 8,
   "metadata": {},
   "outputs": [
    {
     "data": {
      "text/plain": [
       "<torch.utils.hooks.RemovableHandle at 0x7ff648cc1fd0>"
      ]
     },
     "execution_count": 8,
     "metadata": {},
     "output_type": "execute_result"
    }
   ],
   "source": [
    "# connect forward hooks to desired layers\n",
    "outputs = []\n",
    "def hook(module, input, output):\n",
    "    # input is a tuple of packed inputs\n",
    "    # output is a Tensor. output.data is the Tensor we are interested\n",
    "#     print('Inside ' + module.__class__.__name__ + ' forward')\n",
    "#     print('')\n",
    "#     print('input: ', type(input))\n",
    "#     print('input[0]: ', type(input[0]))\n",
    "#     print('output: ', type(output))\n",
    "#     print('')\n",
    "#     print('input size:', input[0].size())\n",
    "#     print('output size:', output.data.size())\n",
    "#     print('output norm:', output.data.norm())\n",
    "    outputs.append(output)\n",
    "\n",
    "#adding forward hook to layer conv2 (feature 3)\n",
    "model.features[3].register_forward_hook(hook)"
   ]
  },
  {
   "cell_type": "code",
   "execution_count": 9,
   "metadata": {},
   "outputs": [],
   "source": [
    "# grab a batch of images\n",
    "images, labels = next(iter(loader))"
   ]
  },
  {
   "cell_type": "code",
   "execution_count": 10,
   "metadata": {},
   "outputs": [],
   "source": [
    "# run the model on those images\n",
    "if torch.cuda.is_available():\n",
    "   images = Variable(images.cuda())\n",
    "else:\n",
    "   images = Variable(images)"
   ]
  },
  {
   "cell_type": "code",
   "execution_count": 11,
   "metadata": {},
   "outputs": [
    {
     "name": "stdout",
     "output_type": "stream",
     "text": [
      "tensor([[ 1.5445, -4.1327, -4.5404,  ...,  8.4978, 14.0044,  3.9530],\n",
      "        [ 0.5043, -8.6503, -5.2454,  ...,  3.0968,  4.3191,  3.0388]],\n",
      "       grad_fn=<AddmmBackward>)\n"
     ]
    }
   ],
   "source": [
    "out = model(images)\n",
    "# inspect output\n",
    "print(out)"
   ]
  },
  {
   "cell_type": "code",
   "execution_count": 12,
   "metadata": {},
   "outputs": [],
   "source": [
    "# class for saving features from model\n",
    "class SaveFeatures():\n",
    "   features=None\n",
    "   def __init__(self, m): \n",
    "        self.hook = m.register_forward_hook(self.hook_fn)\n",
    "   def hook_fn(self, module, input, output): \n",
    "    self.features = output\n",
    "   def remove(self): \n",
    "    self.hook.remove()"
   ]
  },
  {
   "cell_type": "code",
   "execution_count": 13,
   "metadata": {},
   "outputs": [],
   "source": [
    "SaveFeatures(model.features[3]).remove()"
   ]
  },
  {
   "cell_type": "code",
   "execution_count": null,
   "metadata": {},
   "outputs": [],
   "source": []
  }
 ],
 "metadata": {
  "kernelspec": {
   "display_name": "Python 3",
   "language": "python",
   "name": "python3"
  },
  "language_info": {
   "codemirror_mode": {
    "name": "ipython",
    "version": 3
   },
   "file_extension": ".py",
   "mimetype": "text/x-python",
   "name": "python",
   "nbconvert_exporter": "python",
   "pygments_lexer": "ipython3",
   "version": "3.7.4"
  }
 },
 "nbformat": 4,
 "nbformat_minor": 4
}
